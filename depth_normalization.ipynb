{
 "cells": [
  {
   "cell_type": "code",
   "execution_count": 1,
   "id": "d97423a4-7bbc-4481-a4b4-edf1be470ae7",
   "metadata": {
    "tags": []
   },
   "outputs": [],
   "source": [
    "import os\n",
    "\n",
    "import numpy as np\n",
    "import cv2\n",
    "\n",
    "import torch \n",
    "import torch.nn as nn\n",
    "import torch.nn.functional as F\n",
    "import torch.optim as optim\n",
    "from torch.utils.data import DataLoader\n",
    "import torchvision\n",
    "from torchvision import transforms\n",
    "\n",
    "import matplotlib as mpl\n",
    "import matplotlib.pyplot as plt\n",
    "%matplotlib inline\n",
    "\n",
    "from glob import glob\n",
    "\n",
    "\n",
    "\n",
    "# from dataloader import CityScapesDataset\n",
    "# from transformations import *"
   ]
  },
  {
   "cell_type": "code",
   "execution_count": 2,
   "id": "e965599c-b67d-4aeb-99c5-2509a4d762dc",
   "metadata": {
    "tags": []
   },
   "outputs": [],
   "source": [
    "from torch.utils.data import Dataset\n",
    "from labels import labels"
   ]
  },
  {
   "cell_type": "code",
   "execution_count": 26,
   "id": "aa25093a-56c7-4866-8026-dc1a9c812220",
   "metadata": {
    "tags": []
   },
   "outputs": [],
   "source": [
    "class CityScapesDataset(Dataset):\n",
    "    def __init__(self, root, transform=None, split='train', label_map='id', crop=True):\n",
    "        \"\"\"\n",
    "        \n",
    "        \"\"\"\n",
    "        self.root = root\n",
    "        self.transform = transform\n",
    "        self.label_map = label_map\n",
    "        self.crop = crop\n",
    "\n",
    "        self.left_paths = glob(os.path.join(root, 'leftImg8bit', split, '**/*.png'),recursive=True)\n",
    "        self.mask_paths = glob(os.path.join(root, 'gtFine', split, '**/*gtFine_labelIds.png'),recursive=True)\n",
    "        self.depth_paths = glob(os.path.join(root, 'crestereo_depth2', split, '**/*.npy'),recursive=True)\n",
    "        # self.disparity_paths = glob(os.path.join(root, 'disparity', split, '**/*.png'), recursive=True)\n",
    "        \n",
    "        # Print the first few elements to verify they are populated\n",
    "        # print(\"RGB paths:\", self.left_paths[:1])\n",
    "        # print(\"Mask paths:\", self.mask_paths[:1])\n",
    "        # print(\"Disparity paths:\", self.disparity_paths[:1])\n",
    "\n",
    "        sorted(self.left_paths)\n",
    "        sorted(self.mask_paths)\n",
    "        sorted(self.depth_paths)\n",
    "        # sorted(self.disparity_paths)\n",
    "\n",
    "        # get label mappings\n",
    "        self.id_2_train = {}\n",
    "        self.id_2_cat = {}\n",
    "        self.train_2_id = {}\n",
    "        self.id_2_name = {-1 : 'unlabeled'}\n",
    "        self.trainid_2_name = {19 : 'unlabeled'} # {255 : 'unlabeled', -1 : 'unlabeled'}\n",
    "\n",
    "        for lbl in labels:\n",
    "            self.id_2_train.update({lbl.id : lbl.trainId})\n",
    "            self.id_2_cat.update({lbl.id : lbl.categoryId})\n",
    "            if lbl.trainId != 19: # (lbl.trainId > 0) and (lbl.trainId != 255):\n",
    "                self.trainid_2_name.update({lbl.trainId : lbl.name})\n",
    "                self.train_2_id.update({lbl.trainId : lbl.id})\n",
    "            if lbl.id > 0:\n",
    "                self.id_2_name.update({lbl.id : lbl.name})\n",
    "\n",
    "\n",
    "    def __getitem__(self, idx):\n",
    "        left = cv2.cvtColor(cv2.imread(self.left_paths[idx]), cv2.COLOR_BGR2RGB)\n",
    "        mask = cv2.imread(self.mask_paths[idx], cv2.IMREAD_UNCHANGED).astype(np.uint8)\n",
    "        depth = np.load(self.depth_paths[idx], allow_pickle=True) # data is type float16\n",
    "        # depth = cv2.imread(self.depth_paths[idx])\n",
    "        # disparity = cv2.imread(self.disparity_paths[idx], cv2.IMREAD_UNCHANGED)\n",
    "        \n",
    "        # Check if files exist\n",
    "        if not os.path.exists(self.left_paths[idx]):\n",
    "            raise FileNotFoundError(f\"RGB file not found: {self.left_paths[idx]}\")\n",
    "        if not os.path.exists(self.mask_paths[idx]):\n",
    "            raise FileNotFoundError(f\"Mask file not found: {self.mask_paths[idx]}\")\n",
    "        # if not os.path.exists(self.disparity_paths[idx]):\n",
    "        #     raise FileNotFoundError(f\"Disparity file not found: {self.disparity_paths[idx]}\")\n",
    "        if not os.path.exists(self.depth_paths[idx]):\n",
    "            raise FileNotFoundError(f\"depth file not found: {self.depth_paths[idx]}\")\n",
    "\n",
    "        if self.crop:\n",
    "            left = left[:800, :, :]\n",
    "            mask = mask[:800, :]\n",
    "            depth = depth[:800, :]\n",
    "\n",
    "        # get label id\n",
    "        if self.label_map == 'id':\n",
    "            mask[mask==-1] == 0\n",
    "        elif self.label_map == 'trainId':\n",
    "            for _id, train_id in self.id_2_train.items():\n",
    "                mask[mask==_id] = train_id\n",
    "        elif self.label_map == 'categoryId':\n",
    "            for _id, train_id in self.id_2_cat.items():\n",
    "                mask[mask==_id] = train_id\n",
    "\n",
    "        sample = {'left' : left, 'mask' : mask, 'depth' : depth}\n",
    "\n",
    "        if self.transform:\n",
    "            sample = self.transform(sample)\n",
    "\n",
    "        # ensure that no depth values are less than 0\n",
    "        depth[depth < 0] = 0\n",
    "\n",
    "        return sample\n",
    "    \n",
    "\n",
    "    def __len__(self):\n",
    "        print(f\"Number of RGB images: {len(self.left_paths)}\")\n",
    "        print(f\"Number of Mask images: {len(self.mask_paths)}\")\n",
    "        print(f\"Number of depth images: {len(self.depth_paths)}\")\n",
    "        # print(f\"Number of Disparity images: {len(self.disparity_paths)}\")\n",
    "        return len(self.left_paths)"
   ]
  },
  {
   "cell_type": "code",
   "execution_count": 27,
   "id": "f707e1ff-d514-444e-91af-88b085610162",
   "metadata": {
    "tags": []
   },
   "outputs": [
    {
     "data": {
      "text/plain": [
       "'/home/rmajumd/2024/ML_in_image_synthesis/Cityscapes/Cityscapes/cityscapes_dataset'"
      ]
     },
     "execution_count": 27,
     "metadata": {},
     "output_type": "execute_result"
    }
   ],
   "source": [
    "curr_dir=os.getcwd()\n",
    "root= os.path.join(curr_dir,\"cityscapes_dataset\")\n",
    "root"
   ]
  },
  {
   "cell_type": "code",
   "execution_count": 28,
   "id": "f80b8907-6257-4371-8f9b-280bfbeb0c16",
   "metadata": {
    "tags": []
   },
   "outputs": [
    {
     "name": "stdout",
     "output_type": "stream",
     "text": [
      "Number of RGB images: 2975\n",
      "Number of Mask images: 2975\n",
      "Number of depth images: 2975\n",
      "Dataset length: 2975\n"
     ]
    }
   ],
   "source": [
    "BATCH_SIZE = 64\n",
    "\n",
    "train_dataset = CityScapesDataset(root, transform=None, split='train', label_map='trainId') # 'trainId')\n",
    "print(\"Dataset length:\", len(train_dataset))\n",
    "train_loader = DataLoader(train_dataset, batch_size=BATCH_SIZE, pin_memory=True, shuffle=False) # set Shuffle to True"
   ]
  },
  {
   "cell_type": "code",
   "execution_count": 29,
   "id": "f8422bfe-2d12-4513-b5b4-957e68f880f7",
   "metadata": {
    "tags": []
   },
   "outputs": [],
   "source": [
    "# from glob import glob\n",
    "# print(glob(os.path.join(root, 'leftImg8bit', 'train', '**/*.png'), recursive=True))\n"
   ]
  },
  {
   "cell_type": "code",
   "execution_count": 30,
   "id": "388f577a-0008-463f-af96-2c901719fc15",
   "metadata": {
    "tags": []
   },
   "outputs": [
    {
     "name": "stdout",
     "output_type": "stream",
     "text": [
      "Number of RGB images: 2975\n",
      "Number of Mask images: 2975\n",
      "Number of depth images: 2975\n"
     ]
    }
   ],
   "source": [
    "sample = next(iter(train_loader))"
   ]
  },
  {
   "cell_type": "code",
   "execution_count": 31,
   "id": "f3eb16c2-dd72-444d-ba7f-210e3e502b57",
   "metadata": {
    "tags": []
   },
   "outputs": [],
   "source": [
    "_, _, depth = sample['left'], sample['mask'], sample['depth']"
   ]
  },
  {
   "cell_type": "code",
   "execution_count": 32,
   "id": "aca51911-6f30-49ed-a789-9199f9950004",
   "metadata": {
    "tags": []
   },
   "outputs": [
    {
     "data": {
      "text/plain": [
       "(64, 800, 2048)"
      ]
     },
     "execution_count": 32,
     "metadata": {},
     "output_type": "execute_result"
    }
   ],
   "source": [
    "depth = depth.numpy()\n",
    "depth.shape"
   ]
  },
  {
   "cell_type": "code",
   "execution_count": 33,
   "id": "685cb5e3-edcc-4070-b7de-8819304fd776",
   "metadata": {
    "tags": []
   },
   "outputs": [
    {
     "data": {
      "text/plain": [
       "(0.0, 1594354.8, 38.868683, 214.79007)"
      ]
     },
     "execution_count": 33,
     "metadata": {},
     "output_type": "execute_result"
    }
   ],
   "source": [
    "depth.min(), depth.max(), depth.mean(), depth.astype(np.float32).std()"
   ]
  },
  {
   "cell_type": "code",
   "execution_count": 64,
   "id": "bd0d6192-e227-4481-b25f-7f8c84f7a48a",
   "metadata": {
    "tags": []
   },
   "outputs": [
    {
     "data": {
      "image/png": "[encoded data removed]",
      "text/plain": [
       "<Figure size 640x480 with 1 Axes>"
      ]
     },
     "metadata": {},
     "output_type": "display_data"
    }
   ],
   "source": [
    "plt.hist(depth.flatten(), bins=250);"
   ]
  },
  {
   "cell_type": "code",
   "execution_count": 66,
   "id": "cc94fb73-87ba-4d24-9279-625707a8df73",
   "metadata": {},
   "outputs": [
    {
     "data": {
      "image/png": "[encoded data removed]",
      "text/plain": [
       "<Figure size 640x480 with 1 Axes>"
      ]
     },
     "metadata": {},
     "output_type": "display_data"
    }
   ],
   "source": [
    "plt.hist(depth.flatten(), bins=250);\n",
    "plt.xlim(0, 500);"
   ]
  },
  {
   "cell_type": "code",
   "execution_count": 68,
   "id": "3d0d2d40-6735-4ff0-9931-2df8b7ccdfaf",
   "metadata": {
    "tags": []
   },
   "outputs": [
    {
     "data": {
      "text/plain": [
       "(3.7555501, 250.0, 44.332836, 41.301517)"
      ]
     },
     "execution_count": 68,
     "metadata": {},
     "output_type": "execute_result"
    }
   ],
   "source": [
    "depth = np.clip(depth, 0, 250)\n",
    "\n",
    "depth.min(), depth.max(), depth.mean(), depth.astype(np.float32).std()"
   ]
  },
  {
   "cell_type": "code",
   "execution_count": 69,
   "id": "f188448a-cd3c-4d74-90ad-79294ec98fdc",
   "metadata": {
    "tags": []
   },
   "outputs": [
    {
     "data": {
      "image/png": "[encoded data removed]",
      "text/plain": [
       "<Figure size 640x480 with 1 Axes>"
      ]
     },
     "metadata": {},
     "output_type": "display_data"
    }
   ],
   "source": [
    "plt.hist(depth.flatten(), bins=250);"
   ]
  },
  {
   "cell_type": "code",
   "execution_count": 70,
   "id": "6a10c1a1-b35b-4b62-a87a-c4661f065cef",
   "metadata": {
    "tags": []
   },
   "outputs": [
    {
     "data": {
      "text/plain": [
       "5.521460917862246"
      ]
     },
     "execution_count": 70,
     "metadata": {},
     "output_type": "execute_result"
    }
   ],
   "source": [
    "np.log(250)"
   ]
  },
  {
   "cell_type": "code",
   "execution_count": 71,
   "id": "d6383900-bae4-4f8a-aa29-002feb30b1b4",
   "metadata": {
    "tags": []
   },
   "outputs": [],
   "source": [
    "transformed_depth = np.log(depth.flatten())/5"
   ]
  },
  {
   "cell_type": "code",
   "execution_count": 72,
   "id": "04bf56a4-fb41-42f5-9c5f-ee0316faeed9",
   "metadata": {
    "tags": []
   },
   "outputs": [
    {
     "data": {
      "image/png": "[encoded data removed]",
      "text/plain": [
       "<Figure size 640x480 with 1 Axes>"
      ]
     },
     "metadata": {},
     "output_type": "display_data"
    }
   ],
   "source": [
    "plt.hist(transformed_depth, bins=250);"
   ]
  },
  {
   "cell_type": "code",
   "execution_count": 73,
   "id": "3197f5e6-9d8c-4a67-a50c-87a25f6968b8",
   "metadata": {
    "tags": []
   },
   "outputs": [
    {
     "data": {
      "image/png": "[encoded data removed]",
      "text/plain": [
       "<Figure size 640x480 with 1 Axes>"
      ]
     },
     "metadata": {},
     "output_type": "display_data"
    }
   ],
   "source": [
    "plt.hist(np.exp(transformed_depth*5), bins=250);"
   ]
  },
  {
   "cell_type": "code",
   "execution_count": null,
   "id": "8fe6c1bc-416e-4164-a7f7-e006a619a24a",
   "metadata": {},
   "outputs": [],
   "source": []
  }
 ],
 "metadata": {
  "kernelspec": {
   "display_name": "Python 3 (ipykernel)",
   "language": "python",
   "name": "python3"
  },
  "language_info": {
   "codemirror_mode": {
    "name": "ipython",
    "version": 3
   },
   "file_extension": ".py",
   "mimetype": "text/x-python",
   "name": "python",
   "nbconvert_exporter": "python",
   "pygments_lexer": "ipython3",
   "version": "3.11.5"
  }
 },
 "nbformat": 4,
 "nbformat_minor": 5
}
